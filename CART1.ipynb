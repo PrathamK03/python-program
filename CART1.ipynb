{
  "nbformat": 4,
  "nbformat_minor": 0,
  "metadata": {
    "colab": {
      "provenance": [],
      "include_colab_link": true
    },
    "kernelspec": {
      "name": "python3",
      "display_name": "Python 3"
    },
    "language_info": {
      "name": "python"
    }
  },
  "cells": [
    {
      "cell_type": "markdown",
      "metadata": {
        "id": "view-in-github",
        "colab_type": "text"
      },
      "source": [
        "<a href=\"https://colab.research.google.com/github/PrathamK03/python-program/blob/main/CART1.ipynb\" target=\"_parent\"><img src=\"https://colab.research.google.com/assets/colab-badge.svg\" alt=\"Open In Colab\"/></a>"
      ]
    },
    {
      "cell_type": "code",
      "execution_count": null,
      "metadata": {
        "id": "6IWtwXMtbz9q"
      },
      "outputs": [],
      "source": [
        "import pandas as pd\n",
        "import math\n",
        "import numpy as np\n",
        "\n",
        "data = pd.read_csv(\"dataset.csv\")\n",
        "features = [feat for feat in data]\n",
        "features.remove(\"answer\")"
      ]
    },
    {
      "cell_type": "code",
      "source": [
        "class Node:\n",
        "    def __init__(self):\n",
        "        self.children = []\n",
        "        self.value = \"\"\n",
        "        self.isLeaf = False\n",
        "        self.pred = \"\""
      ],
      "metadata": {
        "id": "7W4Hvxkwb1er"
      },
      "execution_count": null,
      "outputs": []
    },
    {
      "cell_type": "code",
      "source": [
        "def gini(examples):\n",
        "    pos = 0.0\n",
        "    neg = 0.0\n",
        "    for _, row in examples.iterrows():\n",
        "        if row[\"answer\"] == \"yes\":\n",
        "            pos += 1\n",
        "        else:\n",
        "            neg += 1\n",
        "    if pos == 0.0 or neg == 0.0:\n",
        "        return 0.0\n",
        "    else:\n",
        "       t=pos+neg\n",
        "       x=pos/t\n",
        "       y=neg/t\n",
        "       p=x*x\n",
        "       n=y*y\n",
        "       return 1-p-n"
      ],
      "metadata": {
        "id": "jolqT4ynb5Dg"
      },
      "execution_count": null,
      "outputs": []
    },
    {
      "cell_type": "code",
      "source": [
        "def cart(examples, attrs):\n",
        "    root = Node()\n",
        "\n",
        "    min_gini = float('inf')  # Initialize min_gini to a high value\n",
        "    max_feat = \"\"\n",
        "    for feature in attrs:\n",
        "        gini_index = gini(examples)\n",
        "        if gini_index < min_gini:\n",
        "            min_gini = gini_index\n",
        "            max_feat = feature\n",
        "\n",
        "    root.value = max_feat\n",
        "    uniq = np.unique(examples[max_feat])\n",
        "\n",
        "    for u in uniq:\n",
        "        subdata = examples[examples[max_feat] == u]\n",
        "        if gini(subdata) == 0.0:\n",
        "            newNode = Node()\n",
        "            newNode.isLeaf = True\n",
        "            newNode.value = u\n",
        "            newNode.pred = np.unique(subdata[\"answer\"])\n",
        "            root.children.append(newNode)\n",
        "        else:\n",
        "            dummyNode = Node()\n",
        "            dummyNode.value = u\n",
        "            new_attrs = attrs.copy()\n",
        "            new_attrs.remove(max_feat)\n",
        "            child = cart(subdata, new_attrs)\n",
        "            dummyNode.children.append(child)\n",
        "            root.children.append(dummyNode)\n",
        "\n",
        "    return root"
      ],
      "metadata": {
        "id": "sF0te-Smb8l4"
      },
      "execution_count": null,
      "outputs": []
    },
    {
      "cell_type": "code",
      "source": [
        "def printTree(root: Node, depth=0):\n",
        "    for i in range(depth):\n",
        "        print(\"\\t\", end=\"\")\n",
        "    print(root.value, end=\"\")\n",
        "    if root.isLeaf:\n",
        "        print(\" -> \", root.pred)\n",
        "    print()\n",
        "    for child in root.children:\n",
        "        printTree(child, depth + 1)"
      ],
      "metadata": {
        "id": "GKIZGqn6cAcx"
      },
      "execution_count": null,
      "outputs": []
    },
    {
      "cell_type": "code",
      "source": [
        "def classify(root: Node, new):\n",
        "    if not new:  # Check if the new dictionary is empty\n",
        "        print(\"Error: The new example dictionary is empty.\")\n",
        "        return None\n",
        "\n",
        "    for child in root.children:\n",
        "        if child.value in new:\n",
        "            if child.value == new[child.value]:\n",
        "                if child.isLeaf:\n",
        "                    print(\"Predicted Label for new example\", new, \" is:\", child.pred)\n",
        "                    return child.pred\n",
        "                else:\n",
        "                    return classify(child, new)\n",
        "        else:\n",
        "            print(f\"Error: The key '{child.value}' not found in the new example dictionary.\")\n",
        "    print(\"Error: No matching child found for the new example.\")\n",
        "    return None\n",
        "    print(\"Keys in new example dictionary:\", new.keys())\n",
        "    print(\"Features expected by the decision tree:\", features)"
      ],
      "metadata": {
        "id": "1El7xmyTcEcA"
      },
      "execution_count": null,
      "outputs": []
    },
    {
      "cell_type": "code",
      "source": [
        "root = cart(data, features)\n",
        "print(\"Decision Tree is:\")\n",
        "printTree(root)\n",
        "print(\"------------------\")\n",
        "\n",
        "new = {\"outlook\": \"Sunny\", \"temperature\": \"Hot\", \"humidity\": \"Normal\", \"wind\": \"Strong\"}\n",
        "\n",
        "# Print the features list\n",
        "print(\"Features:\", features)\n",
        "\n",
        "classify(root, new)"
      ],
      "metadata": {
        "colab": {
          "base_uri": "https://localhost:8080/"
        },
        "id": "8JivVfZBcHrf",
        "outputId": "358d30fd-9486-4eaf-e103-5af0bee993e2"
      },
      "execution_count": null,
      "outputs": [
        {
          "output_type": "stream",
          "name": "stdout",
          "text": [
            "Decision Tree is:\n",
            "outlook\n",
            "\tovercast ->  ['yes']\n",
            "\n",
            "\train\n",
            "\t\ttemperature\n",
            "\t\t\tcool\n",
            "\t\t\t\thumidity\n",
            "\t\t\t\t\tnormal\n",
            "\t\t\t\t\t\twind\n",
            "\t\t\t\t\t\t\tstrong ->  ['no']\n",
            "\n",
            "\t\t\t\t\t\t\tweak ->  ['yes']\n",
            "\n",
            "\t\t\tmild\n",
            "\t\t\t\thumidity\n",
            "\t\t\t\t\thigh\n",
            "\t\t\t\t\t\twind\n",
            "\t\t\t\t\t\t\tstrong ->  ['no']\n",
            "\n",
            "\t\t\t\t\t\t\tweak ->  ['yes']\n",
            "\n",
            "\t\t\t\t\tnormal ->  ['yes']\n",
            "\n",
            "\tsunny\n",
            "\t\ttemperature\n",
            "\t\t\tcool ->  ['yes']\n",
            "\n",
            "\t\t\thot ->  ['no']\n",
            "\n",
            "\t\t\tmild\n",
            "\t\t\t\thumidity\n",
            "\t\t\t\t\thigh ->  ['no']\n",
            "\n",
            "\t\t\t\t\tnormal ->  ['yes']\n",
            "\n",
            "------------------\n",
            "Features: ['outlook', 'temperature', 'humidity', 'wind']\n",
            "Error: The key 'overcast' not found in the new example dictionary.\n",
            "Error: The key 'rain' not found in the new example dictionary.\n",
            "Error: The key 'sunny' not found in the new example dictionary.\n",
            "Error: No matching child found for the new example.\n"
          ]
        }
      ]
    }
  ]
}