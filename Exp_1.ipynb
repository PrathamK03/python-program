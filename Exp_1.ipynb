{
  "cells": [
    {
      "cell_type": "markdown",
      "metadata": {
        "id": "view-in-github",
        "colab_type": "text"
      },
      "source": [
        "<a href=\"https://colab.research.google.com/github/PrathamK03/python-program/blob/main/Exp_1.ipynb\" target=\"_parent\"><img src=\"https://colab.research.google.com/assets/colab-badge.svg\" alt=\"Open In Colab\"/></a>"
      ]
    },
    {
      "cell_type": "code",
      "execution_count": null,
      "metadata": {
        "id": "IRXOX3ODXiHS"
      },
      "outputs": [],
      "source": [
        "import numpy as np\n",
        "from sklearn.datasets import fetch_openml\n",
        "from sklearn.model_selection import train_test_split\n",
        "from sklearn.preprocessing import StandardScaler\n",
        "from sklearn.neural_network import MLPClassifier\n",
        "from sklearn.metrics import classification_report, accuracy_score"
      ]
    },
    {
      "cell_type": "code",
      "execution_count": null,
      "metadata": {
        "colab": {
          "base_uri": "https://localhost:8080/"
        },
        "id": "SfGUir2zXjD_",
        "outputId": "011ebc22-b442-4636-ff9e-6b2ad23672c1"
      },
      "outputs": [
        {
          "name": "stderr",
          "output_type": "stream",
          "text": [
            "/usr/local/lib/python3.10/dist-packages/sklearn/datasets/_openml.py:968: FutureWarning: The default value of `parser` will change from `'liac-arff'` to `'auto'` in 1.4. You can set `parser='auto'` to silence this warning. Therefore, an `ImportError` will be raised from 1.4 if the dataset is dense and pandas is not installed. Note that the pandas parser may return different data types. See the Notes Section in fetch_openml's API doc for details.\n",
            "  warn(\n"
          ]
        }
      ],
      "source": [
        "mnist = fetch_openml('mnist_784')\n",
        "x=mnist.data\n",
        "y=mnist.target"
      ]
    },
    {
      "cell_type": "code",
      "execution_count": null,
      "metadata": {
        "id": "AQj_KYMjPmgx"
      },
      "outputs": [],
      "source": [
        "x_train,x_test,y_train,y_test=train_test_split(x,y,test_size=0.2,random_state=0)"
      ]
    },
    {
      "cell_type": "code",
      "execution_count": null,
      "metadata": {
        "id": "YfBowbKNPzB8"
      },
      "outputs": [],
      "source": [
        "#scaler=StandardScaler()\n",
        "#x_train=scaler.fit_transform(x_train)\n",
        "#x_test=scaler.transform(x_test)"
      ]
    },
    {
      "cell_type": "code",
      "execution_count": null,
      "metadata": {
        "id": "_1KKUMIGQK8p"
      },
      "outputs": [],
      "source": [
        "mlp=MLPClassifier(hidden_layer_sizes=(64,32),max_iter=1000,random_state=0)"
      ]
    },
    {
      "cell_type": "code",
      "execution_count": null,
      "metadata": {
        "colab": {
          "background_save": true
        },
        "id": "8hsMTHIOQaq-",
        "outputId": "1675832d-762f-440f-9f2f-9cf5cbbbb86c"
      },
      "outputs": [
        {
          "name": "stdout",
          "output_type": "stream",
          "text": [
            "0.9603571428571429\n"
          ]
        }
      ],
      "source": [
        "mlp.fit(x_train,y_train)\n",
        "y_pred=mlp.predict(x_test)\n",
        "print(accuracy_score(y_test,y_pred))"
      ]
    },
    {
      "cell_type": "code",
      "execution_count": null,
      "metadata": {
        "colab": {
          "background_save": true
        },
        "id": "m9r57CIYQoAM",
        "outputId": "70005622-64a6-4ccb-aeb8-bc5e7ac58645"
      },
      "outputs": [
        {
          "name": "stdout",
          "output_type": "stream",
          "text": [
            "              precision    recall  f1-score   support\n",
            "\n",
            "           0       0.99      0.97      0.98      1387\n",
            "           1       0.98      0.99      0.98      1580\n",
            "           2       0.96      0.97      0.96      1443\n",
            "           3       0.96      0.94      0.95      1435\n",
            "           4       0.95      0.97      0.96      1350\n",
            "           5       0.93      0.96      0.95      1231\n",
            "           6       0.98      0.96      0.97      1387\n",
            "           7       0.98      0.95      0.96      1458\n",
            "           8       0.94      0.96      0.95      1368\n",
            "           9       0.94      0.94      0.94      1361\n",
            "\n",
            "    accuracy                           0.96     14000\n",
            "   macro avg       0.96      0.96      0.96     14000\n",
            "weighted avg       0.96      0.96      0.96     14000\n",
            "\n"
          ]
        }
      ],
      "source": [
        "print(classification_report(y_test,y_pred))"
      ]
    },
    {
      "cell_type": "code",
      "execution_count": null,
      "metadata": {
        "colab": {
          "background_save": true
        },
        "id": "JRiqWFQNRNTr",
        "outputId": "ff220465-fa24-4bbf-9a32-3bb2cc14a62b"
      },
      "outputs": [
        {
          "name": "stdout",
          "output_type": "stream",
          "text": [
            "[[1342    0    5    1    4    7   12    1   12    3]\n",
            " [   0 1559    5    5    2    2    2    2    3    0]\n",
            " [   0    4 1394   12    3    1    4    7   16    2]\n",
            " [   1    7   19 1350    0   26    0    7   18    7]\n",
            " [   1    2    2    1 1306    0    4    6    6   22]\n",
            " [   2    0    1   15    0 1187    7    0   10    9]\n",
            " [   7    0    1    0   19   23 1325    1   10    1]\n",
            " [   2   10   16    8   12    3    0 1385    1   21]\n",
            " [   1   10    3    8    7   18    0    0 1311   10]\n",
            " [   2    5    6    9   25   10    0    8   10 1286]]\n"
          ]
        }
      ],
      "source": [
        "print(confusion_matrix(y_test,y_pred))"
      ]
    }
  ],
  "metadata": {
    "colab": {
      "provenance": [],
      "authorship_tag": "ABX9TyNSpD+EIhVMjpG4Ew6pmfb2",
      "include_colab_link": true
    },
    "kernelspec": {
      "display_name": "Python 3",
      "name": "python3"
    },
    "language_info": {
      "name": "python"
    }
  },
  "nbformat": 4,
  "nbformat_minor": 0
}