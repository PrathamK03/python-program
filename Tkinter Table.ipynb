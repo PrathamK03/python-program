{
 "cells": [
  {
   "cell_type": "code",
   "execution_count": 1,
   "id": "fc551f29-7c61-4c31-ab5a-8dbf8d539013",
   "metadata": {},
   "outputs": [],
   "source": [
    "from tkinter import *\n",
    "\n",
    "class Table:\n",
    "    def __init__(self,root):\n",
    "        for i in range(total_rows):\n",
    "            for j in range(total_columns):\n",
    "                self.e = Entry(root, width=20, fg='blue', font=('Arial',16,'bold'))\n",
    "                self.e.grid(row=i, column=j)\n",
    "                self.e.insert(END, lst[i][j])\n",
    "\n",
    "lst = [(1,'Raj','Mumbai',19),\n",
    "\t(2,'Aaryan','Pune',18),\n",
    "\t(3,'Vaishnavi','Mumbai',20),\n",
    "\t(4,'Rachna','Mumbai',21),\n",
    "\t(5,'Shubham','Delhi',21)]\n",
    "\n",
    "total_rows = len(lst)\n",
    "total_columns = len(lst[0])\n",
    "\n",
    "root = Tk()\n",
    "t = Table(root)\n",
    "root.mainloop()"
   ]
  },
  {
   "cell_type": "code",
   "execution_count": null,
   "id": "17cffede-d630-4049-b8d0-ad896eafec8a",
   "metadata": {},
   "outputs": [],
   "source": []
  }
 ],
 "metadata": {
  "kernelspec": {
   "display_name": "Python 3 (ipykernel)",
   "language": "python",
   "name": "python3"
  },
  "language_info": {
   "codemirror_mode": {
    "name": "ipython",
    "version": 3
   },
   "file_extension": ".py",
   "mimetype": "text/x-python",
   "name": "python",
   "nbconvert_exporter": "python",
   "pygments_lexer": "ipython3",
   "version": "3.12.4"
  }
 },
 "nbformat": 4,
 "nbformat_minor": 5
}
