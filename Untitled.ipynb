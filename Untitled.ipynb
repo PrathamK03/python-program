{
 "cells": [
  {
   "cell_type": "code",
   "execution_count": 1,
   "id": "cde86ee0-61e7-4835-af59-e1d41852f96b",
   "metadata": {},
   "outputs": [],
   "source": [
    "import tkinter\n",
    "a=tkinter.Tk()\n",
    "a.mainloop()"
   ]
  },
  {
   "cell_type": "code",
   "execution_count": 3,
   "id": "2f631384-346b-493c-9da4-9a0a6cdc370f",
   "metadata": {},
   "outputs": [],
   "source": [
    "from tkinter import *\n",
    "root=Tk()\n",
    "w=Label(root,text='this is a label')\n",
    "w.pack()\n",
    "root.mainloop()"
   ]
  },
  {
   "cell_type": "code",
   "execution_count": 12,
   "id": "e425c8b4-e2cf-46f8-bc56-45c61fe6f186",
   "metadata": {},
   "outputs": [],
   "source": [
    "from tkinter import *\n",
    "root=Tk()\n",
    "w=Button(root,text='this is a button')\n",
    "w.pack()\n",
    "root.mainloop()"
   ]
  },
  {
   "cell_type": "code",
   "execution_count": 30,
   "id": "2204978b-bd34-45b0-ab5b-089ac9311e67",
   "metadata": {},
   "outputs": [],
   "source": [
    "from tkinter import *\n",
    "root=Tk()\n",
    "Label(root,text='username').grid(row=0)\n",
    "Label(root,text='password').grid(row=1)\n",
    "e1=Entry(root)\n",
    "e2=Entry(root)\n",
    "e1.grid(row=0,column=1)\n",
    "e2.grid(row=1,column=1)\n",
    "b1=Button(root,text='login')\n",
    "#b1.pack()\n",
    "b1.grid(row=2,column=1)\n",
    "root.mainloop()"
   ]
  },
  {
   "cell_type": "code",
   "execution_count": 34,
   "id": "5145657f-4d10-468f-b354-93e4295c7d58",
   "metadata": {},
   "outputs": [],
   "source": [
    "from tkinter import *\n",
    "root=Tk()\n",
    "a=IntVar()\n",
    "Radiobutton(root,text='male',var=a,value=1).pack(anchor=W)\n",
    "Radiobutton(root,text='female',var=a,value=2).pack(anchor=W)\n",
    "root.mainloop()"
   ]
  },
  {
   "cell_type": "code",
   "execution_count": 42,
   "id": "e53cf22d-bab2-466f-87ea-99e3a219e437",
   "metadata": {},
   "outputs": [],
   "source": [
    "from tkinter import *\n",
    "root=Tk()\n",
    "v1=IntVar()\n",
    "Checkbutton(root,text='graduate',var=v1).grid(row=0,sticky=W)\n",
    "v2=IntVar()\n",
    "Checkbutton(root,text='post graduate',var=v2).grid(row=1,sticky=W)\n",
    "v3=IntVar()\n",
    "Checkbutton(root,text='phd',var=v3).grid(row=2,sticky=W)\n",
    "root.mainloop()"
   ]
  },
  {
   "cell_type": "code",
   "execution_count": 48,
   "id": "0311dbb8-615b-4153-a396-573d3c3ca96b",
   "metadata": {},
   "outputs": [],
   "source": [
    "from tkinter import *\n",
    "root=Tk()\n",
    "lb=Listbox(root)\n",
    "lb.insert(1,'C')\n",
    "lb.insert(2,'C++')\n",
    "lb.insert(3,'Java')\n",
    "lb.insert(4,'Python')\n",
    "lb.insert(5,'R')\n",
    "lb.pack()\n",
    "root.mainloop()"
   ]
  },
  {
   "cell_type": "code",
   "execution_count": 15,
   "id": "ebbef7a3-b813-473f-a405-ed22d63aa9ba",
   "metadata": {},
   "outputs": [],
   "source": [
    "from tkinter import *\n",
    "root=Tk()\n",
    "scrollbar=Scrollbar(root)\n",
    "scrollbar.pack(side=RIGHT,fill=Y)\n",
    "mylist=Listbox(root,yscrollcommand=scrollbar.set)\n",
    "for line in range (100):\n",
    "    mylist.insert(END,'this is line number'+str(line))\n",
    "mylist.pack(side=LEFT,fill=BOTH)\n",
    "scrollbar.config(command=mylist.yview)\n",
    "root.mainloop()"
   ]
  },
  {
   "cell_type": "code",
   "execution_count": null,
   "id": "936b441e-94e8-4f96-8ac2-8f84a4b5f4ba",
   "metadata": {},
   "outputs": [],
   "source": [
    "from tkinter import *\n",
    "root=Tk()\n",
    "menu=Menu(root)\n",
    "root.config(menu=menu)\n",
    "filemenu=Menu(menu)\n",
    "menu.add_cascade(label='file',menu=filemenu)\n",
    "filemenu.add_command(label='new')\n",
    "filemenu.add_command(label='open')\n",
    "filemenu.add_separator()\n",
    "filemenu.add_command(label='exit',command=root.quit)\n",
    "editmenu=Menu(menu)\n",
    "menu.add_cascade(label='edit',menu=editmenu)\n",
    "editmenu.add_command(label='new')\n",
    "editmenu.add_command(label='open')\n",
    "helpmenu=Menu(menu)\n",
    "menu.add_cascade(label='help',menu=helpmenu)\n",
    "helpmenu.add_command(label='about')\n",
    "root.mainloop()"
   ]
  },
  {
   "cell_type": "code",
   "execution_count": 26,
   "id": "cd7ce1f7-22f2-4cb0-8d21-742cd32cfb91",
   "metadata": {},
   "outputs": [],
   "source": [
    "import tkinter as tk\n",
    "from tkinter import ttk\n",
    "def on_select(event):\n",
    "    selected_item=combo_box.get()\n",
    "    label.config(text=\"selected item \"+selected_item)\n",
    "root=tk.Tk()\n",
    "root.title(\"combobox\")\n",
    "label=tk.Label(root,text='selected item')\n",
    "label.pack(pady=10)\n",
    "combo_box=ttk.Combobox(root,values=[\"option 1\",\"option 2\",\"option 3\"])\n",
    "combo_box.pack(pady=5)\n",
    "combo_box.set(\"option 1\")\n",
    "combo_box.bind(\"<<ComboboxSelected>>\",on_select)\n",
    "root.mainloop()"
   ]
  },
  {
   "cell_type": "code",
   "execution_count": 33,
   "id": "2eb09d1b-4add-4476-a66c-2898f8b8dfb3",
   "metadata": {},
   "outputs": [],
   "source": [
    "from tkinter import *\n",
    "root=Tk()\n",
    "w=Scale(root,from_=0,to=42,orient=VERTICAL)\n",
    "w.pack()\n",
    "w=Scale(root,from_=0,to=200,orient=HORIZONTAL)\n",
    "w.pack()\n",
    "root.mainloop()"
   ]
  },
  {
   "cell_type": "code",
   "execution_count": 1,
   "id": "8a04099f-e220-40c4-8ea7-18a4740ce62c",
   "metadata": {},
   "outputs": [],
   "source": [
    "from tkinter import *\n",
    "root=Tk()\n",
    "msg='this is a message'\n",
    "msg_var=Message(root,text=msg)\n",
    "msg_var.config(bg='light green')\n",
    "msg_var.pack()\n",
    "root.mainloop()"
   ]
  },
  {
   "cell_type": "code",
   "execution_count": 11,
   "id": "3d8fad8f-7889-4816-9a5e-fa6e32bbeb72",
   "metadata": {},
   "outputs": [],
   "source": [
    "from tkinter import *\n",
    "root=Tk()\n",
    "mb=Menubutton(root,text=\"menu\")\n",
    "mb.grid()\n",
    "mb.menu=Menu(mb,tearoff=0)\n",
    "mb[\"menu\"]=mb.menu\n",
    "cvar=IntVar()\n",
    "avar=IntVar()\n",
    "bvar=IntVar()\n",
    "mb.menu.add_checkbutton(label='contact',variable=cvar)\n",
    "mb.menu.add_checkbutton(label='about',variable=avar)\n",
    "mb.menu.add_checkbutton(label='check',variable=bvar)\n",
    "mb.pack()\n",
    "root.mainloop()"
   ]
  },
  {
   "cell_type": "code",
   "execution_count": 23,
   "id": "9938b8c0-5301-418e-be0a-3072d24ad22d",
   "metadata": {},
   "outputs": [],
   "source": [
    "import tkinter as tk\n",
    "root=tk.Tk()\n",
    "root.title(\"example of pack\")\n",
    "button1=tk.Button(root,text='button1')\n",
    "button2=tk.Button(root,text='button2')\n",
    "button3=tk.Button(root,text='button3')\n",
    "button1.pack()\n",
    "#button2.pack()\n",
    "#button3.pack()\n",
    "root.mainloop()"
   ]
  },
  {
   "cell_type": "code",
   "execution_count": 45,
   "id": "d52c1050-323b-4dc6-96b7-78820074eec9",
   "metadata": {},
   "outputs": [],
   "source": [
    "import tkinter as tk\n",
    "root=tk.Tk()\n",
    "root.title(\"example of pack\")\n",
    "label1=tk.Label(root,text='label1')\n",
    "label2=tk.Label(root,text='label2')\n",
    "label3=tk.Label(root,text='label3')\n",
    "label4=tk.Label(root,text='label4')\n",
    "#label1.grid(row=0,column=0)\n",
    "label2.grid(row=0,column=1)\n",
    "label3.grid(row=1,column=0,columnspan=2)\n",
    "label4.grid(row=1,column=1,columnspan=10)\n",
    "label1.place(x=100,y=100)\n",
    "root.mainloop()"
   ]
  },
  {
   "cell_type": "code",
   "execution_count": 59,
   "id": "f7fc6039-cc09-436c-aede-b5a9a596dc91",
   "metadata": {},
   "outputs": [],
   "source": [
    "import tkinter as tk\n",
    "root=tk.Tk()\n",
    "root.title(\"color options in tkinter\")\n",
    "button=tk.Button(root,text=\"click me\",activebackground=\"blue\",activeforeground=\"white\")\n",
    "button.pack()\n",
    "label=tk.Label(root,text=\"hello tkinter\",bg=\"red\",fg=\"black\")\n",
    "label.pack()\n",
    "entry=tk.Entry(root,selectbackground=\"green\",selectforeground=\"yellow\")\n",
    "entry.pack()\n",
    "root.mainloop()"
   ]
  },
  {
   "cell_type": "code",
   "execution_count": null,
   "id": "f33e64fe-60da-402c-9fe1-15fb2f739a5d",
   "metadata": {},
   "outputs": [],
   "source": []
  }
 ],
 "metadata": {
  "kernelspec": {
   "display_name": "Python 3 (ipykernel)",
   "language": "python",
   "name": "python3"
  },
  "language_info": {
   "codemirror_mode": {
    "name": "ipython",
    "version": 3
   },
   "file_extension": ".py",
   "mimetype": "text/x-python",
   "name": "python",
   "nbconvert_exporter": "python",
   "pygments_lexer": "ipython3",
   "version": "3.12.4"
  }
 },
 "nbformat": 4,
 "nbformat_minor": 5
}
