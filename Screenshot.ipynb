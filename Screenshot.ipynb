{
 "cells": [
  {
   "cell_type": "code",
   "execution_count": 1,
   "id": "a79edc96-74c2-4d96-b80c-6062984f4ff4",
   "metadata": {},
   "outputs": [
    {
     "name": "stdout",
     "output_type": "stream",
     "text": [
      "Collecting pyscreenshotNote: you may need to restart the kernel to use updated packages.\n",
      "\n",
      "  Downloading pyscreenshot-3.1-py3-none-any.whl.metadata (1.4 kB)\n",
      "Collecting EasyProcess (from pyscreenshot)\n",
      "  Downloading EasyProcess-1.1-py3-none-any.whl.metadata (855 bytes)\n",
      "Collecting entrypoint2 (from pyscreenshot)\n",
      "  Downloading entrypoint2-1.1-py2.py3-none-any.whl.metadata (1.0 kB)\n",
      "Collecting mss (from pyscreenshot)\n",
      "  Downloading mss-9.0.1-py3-none-any.whl.metadata (3.9 kB)\n",
      "Downloading pyscreenshot-3.1-py3-none-any.whl (28 kB)\n",
      "Downloading EasyProcess-1.1-py3-none-any.whl (8.7 kB)\n",
      "Downloading entrypoint2-1.1-py2.py3-none-any.whl (9.9 kB)\n",
      "Downloading mss-9.0.1-py3-none-any.whl (22 kB)\n",
      "Installing collected packages: entrypoint2, EasyProcess, mss, pyscreenshot\n",
      "Successfully installed EasyProcess-1.1 entrypoint2-1.1 mss-9.0.1 pyscreenshot-3.1\n"
     ]
    }
   ],
   "source": [
    "pip install pyscreenshot"
   ]
  },
  {
   "cell_type": "code",
   "execution_count": 5,
   "id": "3a7f7d1f-2de6-4308-b3fc-65a05f781dcc",
   "metadata": {},
   "outputs": [],
   "source": [
    "import pyscreenshot \n",
    "image = pyscreenshot.grab() \n",
    "image.show() \n",
    "image.save(\"GeeksforGeeks.png\") "
   ]
  },
  {
   "cell_type": "code",
   "execution_count": 7,
   "id": "9ccabc61-dd9f-4a36-b6d4-6ac618889759",
   "metadata": {},
   "outputs": [],
   "source": [
    "import pyscreenshot \n",
    "image = pyscreenshot.grab(bbox=(10, 10, 500, 500)) \n",
    "image.show() \n",
    "image.save(\"GeeksforGeeks.png\") "
   ]
  },
  {
   "cell_type": "code",
   "execution_count": null,
   "id": "302a7df9-f2d9-4cf8-a054-2180460ffac8",
   "metadata": {},
   "outputs": [],
   "source": []
  }
 ],
 "metadata": {
  "kernelspec": {
   "display_name": "Python 3 (ipykernel)",
   "language": "python",
   "name": "python3"
  },
  "language_info": {
   "codemirror_mode": {
    "name": "ipython",
    "version": 3
   },
   "file_extension": ".py",
   "mimetype": "text/x-python",
   "name": "python",
   "nbconvert_exporter": "python",
   "pygments_lexer": "ipython3",
   "version": "3.12.4"
  }
 },
 "nbformat": 4,
 "nbformat_minor": 5
}
