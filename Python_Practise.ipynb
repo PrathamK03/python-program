{
  "nbformat": 4,
  "nbformat_minor": 0,
  "metadata": {
    "colab": {
      "provenance": []
    },
    "kernelspec": {
      "name": "python3",
      "display_name": "Python 3"
    },
    "language_info": {
      "name": "python"
    }
  },
  "cells": [
    {
      "cell_type": "code",
      "execution_count": null,
      "metadata": {
        "colab": {
          "base_uri": "https://localhost:8080/",
          "height": 246
        },
        "id": "hFbmIdxmLAaI",
        "outputId": "47991b08-ef3b-4bc1-e2ac-cc923b38bf79"
      },
      "outputs": [
        {
          "output_type": "stream",
          "name": "stdout",
          "text": [
            "<class 'int'>\n",
            "3.5\n"
          ]
        },
        {
          "output_type": "error",
          "ename": "NameError",
          "evalue": "ignored",
          "traceback": [
            "\u001b[0;31m---------------------------------------------------------------------------\u001b[0m",
            "\u001b[0;31mNameError\u001b[0m                                 Traceback (most recent call last)",
            "\u001b[0;32m<ipython-input-15-14161d927cc1>\u001b[0m in \u001b[0;36m<cell line: 5>\u001b[0;34m()\u001b[0m\n\u001b[1;32m      3\u001b[0m \u001b[0mx\u001b[0m\u001b[0;34m=\u001b[0m\u001b[0;36m3.5\u001b[0m\u001b[0;34m\u001b[0m\u001b[0;34m\u001b[0m\u001b[0m\n\u001b[1;32m      4\u001b[0m \u001b[0mprint\u001b[0m\u001b[0;34m(\u001b[0m\u001b[0mx\u001b[0m\u001b[0;34m)\u001b[0m\u001b[0;34m\u001b[0m\u001b[0;34m\u001b[0m\u001b[0m\n\u001b[0;32m----> 5\u001b[0;31m \u001b[0mconst\u001b[0m\u001b[0;34m(\u001b[0m\u001b[0mx\u001b[0m\u001b[0;34m)\u001b[0m\u001b[0;34m\u001b[0m\u001b[0;34m\u001b[0m\u001b[0m\n\u001b[0m",
            "\u001b[0;31mNameError\u001b[0m: name 'const' is not defined"
          ]
        }
      ],
      "source": [
        "x=2\n",
        "print(type(x))\n",
        "x=3.5\n",
        "print(x)\n",
        "const(x)"
      ]
    },
    {
      "cell_type": "code",
      "source": [
        "import constant\n",
        "a=3.4\n",
        "print(a)"
      ],
      "metadata": {
        "colab": {
          "base_uri": "https://localhost:8080/"
        },
        "id": "Cyxyv7bbLg0f",
        "outputId": "792def37-1278-462d-c348-fb04091cd8cd"
      },
      "execution_count": null,
      "outputs": [
        {
          "output_type": "stream",
          "name": "stdout",
          "text": [
            "3.4\n"
          ]
        }
      ]
    },
    {
      "cell_type": "code",
      "source": [
        "pip install constant"
      ],
      "metadata": {
        "colab": {
          "base_uri": "https://localhost:8080/"
        },
        "id": "_-flr4M-OPUe",
        "outputId": "c3584875-ba62-45ae-fc3d-6d13825714aa"
      },
      "execution_count": null,
      "outputs": [
        {
          "output_type": "stream",
          "name": "stdout",
          "text": [
            "Requirement already satisfied: constant in /usr/local/lib/python3.10/dist-packages (0.0.4)\n",
            "Requirement already satisfied: jinja2 in /usr/local/lib/python3.10/dist-packages (from constant) (3.1.2)\n",
            "Requirement already satisfied: MarkupSafe>=2.0 in /usr/local/lib/python3.10/dist-packages (from jinja2->constant) (2.1.3)\n"
          ]
        }
      ]
    },
    {
      "cell_type": "code",
      "source": [
        "import constant\n",
        "a = 3.4\n",
        "print(constant.a)\n",
        "a=5.6\n",
        "print(a)"
      ],
      "metadata": {
        "colab": {
          "base_uri": "https://localhost:8080/",
          "height": 246
        },
        "id": "j1e375nxOiSd",
        "outputId": "f70fa7d1-f8a1-43e1-969a-49994477b866"
      },
      "execution_count": null,
      "outputs": [
        {
          "output_type": "error",
          "ename": "AttributeError",
          "evalue": "ignored",
          "traceback": [
            "\u001b[0;31m---------------------------------------------------------------------------\u001b[0m",
            "\u001b[0;31mAttributeError\u001b[0m                            Traceback (most recent call last)",
            "\u001b[0;32m<ipython-input-13-52cced6b47c1>\u001b[0m in \u001b[0;36m<cell line: 3>\u001b[0;34m()\u001b[0m\n\u001b[1;32m      1\u001b[0m \u001b[0;32mimport\u001b[0m \u001b[0mconstant\u001b[0m\u001b[0;34m\u001b[0m\u001b[0;34m\u001b[0m\u001b[0m\n\u001b[1;32m      2\u001b[0m \u001b[0ma\u001b[0m \u001b[0;34m=\u001b[0m \u001b[0;36m3.4\u001b[0m\u001b[0;34m\u001b[0m\u001b[0;34m\u001b[0m\u001b[0m\n\u001b[0;32m----> 3\u001b[0;31m \u001b[0mprint\u001b[0m\u001b[0;34m(\u001b[0m\u001b[0mconstant\u001b[0m\u001b[0;34m.\u001b[0m\u001b[0ma\u001b[0m\u001b[0;34m)\u001b[0m\u001b[0;34m\u001b[0m\u001b[0;34m\u001b[0m\u001b[0m\n\u001b[0m\u001b[1;32m      4\u001b[0m \u001b[0ma\u001b[0m\u001b[0;34m=\u001b[0m\u001b[0;36m5.6\u001b[0m\u001b[0;34m\u001b[0m\u001b[0;34m\u001b[0m\u001b[0m\n\u001b[1;32m      5\u001b[0m \u001b[0mprint\u001b[0m\u001b[0;34m(\u001b[0m\u001b[0ma\u001b[0m\u001b[0;34m)\u001b[0m\u001b[0;34m\u001b[0m\u001b[0;34m\u001b[0m\u001b[0m\n",
            "\u001b[0;31mAttributeError\u001b[0m: module 'constant' has no attribute 'a'"
          ]
        }
      ]
    },
    {
      "cell_type": "code",
      "source": [
        "a=1\n",
        "b=2\n",
        "c=3\n",
        "c=a+b+c\n",
        "print(c)\n",
        "c+=a\n",
        "print(c)\n",
        "c*=b\n",
        "print(c)\n",
        "c=c+1\n",
        "print(c)\n",
        "c=c-1\n",
        "print(c)\n"
      ],
      "metadata": {
        "colab": {
          "base_uri": "https://localhost:8080/"
        },
        "id": "RIDSUWqwOmdv",
        "outputId": "4f4cbc2c-bc0d-41a9-cde1-8e6cf47e7f9c"
      },
      "execution_count": null,
      "outputs": [
        {
          "output_type": "stream",
          "name": "stdout",
          "text": [
            "6\n",
            "7\n",
            "14\n",
            "15\n",
            "14\n"
          ]
        }
      ]
    },
    {
      "cell_type": "code",
      "source": [
        "x={\"avinash\",\"balloon\",\"cat\"}\n",
        "print(x)"
      ],
      "metadata": {
        "colab": {
          "base_uri": "https://localhost:8080/"
        },
        "id": "5B2ND2WwQU70",
        "outputId": "b6e45efb-9e89-4b52-d72e-69b214128804"
      },
      "execution_count": null,
      "outputs": [
        {
          "output_type": "stream",
          "name": "stdout",
          "text": [
            "{'balloon', 'avinash', 'cat'}\n"
          ]
        }
      ]
    },
    {
      "cell_type": "code",
      "source": [
        "tuple1=('a','b','cat','d','1.2','2.4')\n",
        "print(tuple1)"
      ],
      "metadata": {
        "id": "51WOZYCbS7wF",
        "colab": {
          "base_uri": "https://localhost:8080/"
        },
        "outputId": "014767d6-cb51-4f68-dcfd-49f5057e921d"
      },
      "execution_count": null,
      "outputs": [
        {
          "output_type": "stream",
          "name": "stdout",
          "text": [
            "('a', 'b', 'cat', 'd', '1.2', '2.4')\n"
          ]
        }
      ]
    },
    {
      "cell_type": "code",
      "source": [
        "array1=['a','b','cat',\"1.5\",\"2.2\"]\n",
        "print(array1)"
      ],
      "metadata": {
        "colab": {
          "base_uri": "https://localhost:8080/"
        },
        "id": "kodhUB_OKxAh",
        "outputId": "bf558ece-2a66-45f7-d4b8-ff6d19d30810"
      },
      "execution_count": null,
      "outputs": [
        {
          "output_type": "stream",
          "name": "stdout",
          "text": [
            "['a', 'b', 'cat', '1.5', '2.2']\n"
          ]
        }
      ]
    },
    {
      "cell_type": "code",
      "source": [
        "dict1={\n",
        "  'roll_no':('1','2','3'),\n",
        "  'name':['a','b','c'],\n",
        "  'age':{'10','20','30'}\n",
        "  }\n",
        "print(dict1)"
      ],
      "metadata": {
        "colab": {
          "base_uri": "https://localhost:8080/"
        },
        "id": "M83E6dIPLJqv",
        "outputId": "d32454bc-f9df-4b43-a446-b71ea35b7a28"
      },
      "execution_count": null,
      "outputs": [
        {
          "output_type": "stream",
          "name": "stdout",
          "text": [
            "{'roll_no': ('1', '2', '3'), 'name': ['a', 'b', 'c'], 'age': {'20', '30', '10'}}\n"
          ]
        }
      ]
    },
    {
      "cell_type": "code",
      "source": [
        "dept={\n",
        "    'teach':{\n",
        "        'employ_id':('1','2','3'),\n",
        "        'name':('a','b','c'),\n",
        "        'mob_no':('123','456','789')\n",
        "    },\n",
        "    'non_teach':{\n",
        "        'employ_id':('4','5','6'),\n",
        "        'name':('d','e','f'),\n",
        "        'mob_no':('101112','121415','161718')\n",
        "    }\n",
        "}\n",
        "print(dept)"
      ],
      "metadata": {
        "colab": {
          "base_uri": "https://localhost:8080/"
        },
        "id": "wn7fwpayMHLO",
        "outputId": "f76b78d8-b91f-4f1e-c12a-de8ccbb05e7e"
      },
      "execution_count": null,
      "outputs": [
        {
          "output_type": "stream",
          "name": "stdout",
          "text": [
            "{'teach': {'employ_id': ('1', '2', '3'), 'name': ('a', 'b', 'c'), 'mob_no': ('123', '456', '789')}, 'non_teach': {'employ_id': ('4', '5', '6'), 'name': ('d', 'e', 'f'), 'mob_no': ('101112', '121415', '161718')}}\n"
          ]
        }
      ]
    },
    {
      "cell_type": "code",
      "source": [
        "x=('a','b','c','d','e','f','g','h','i','j','k','l')\n",
        "for x in range(3,10):\n",
        "  print(x)\n"
      ],
      "metadata": {
        "colab": {
          "base_uri": "https://localhost:8080/"
        },
        "id": "5giSFZq2O9RH",
        "outputId": "d29afd49-8565-47bb-e9dd-71391476ea51"
      },
      "execution_count": null,
      "outputs": [
        {
          "output_type": "stream",
          "name": "stdout",
          "text": [
            "3\n",
            "4\n",
            "5\n",
            "6\n",
            "7\n",
            "8\n",
            "9\n"
          ]
        }
      ]
    },
    {
      "cell_type": "code",
      "source": [
        "a=2\n",
        "b=3\n",
        "c=5\n",
        "if (a>b) & (a>c):\n",
        "  {\n",
        "    print(\"a is greatest\")\n",
        "  }\n",
        "elif (b>c) & (b>a):\n",
        "  {\n",
        "    print(\"b is greatest\")\n",
        "  }\n",
        "elif (c>a) & (c>b):\n",
        "  {\n",
        "    print(\"c is greatest\")\n",
        "  }\n",
        "else:\n",
        "  {\n",
        "    print(\"all are equal\")\n",
        "  }"
      ],
      "metadata": {
        "id": "yfM7EoKHQS8I",
        "colab": {
          "base_uri": "https://localhost:8080/"
        },
        "outputId": "87f5c84d-65c6-4904-c755-88984a39149e"
      },
      "execution_count": null,
      "outputs": [
        {
          "output_type": "stream",
          "name": "stdout",
          "text": [
            "c is greatest\n"
          ]
        }
      ]
    },
    {
      "cell_type": "code",
      "source": [
        "def operations(num):\n",
        "  switch={\n",
        "      1 : \"Vowel\",\n",
        "      2 : \"Vowel\",\n",
        "      3 : \"Vowel\",\n",
        "      4 : \"Vowel\",\n",
        "      5 : \"Vowel\",\n",
        "  }\n",
        "  return switch.get(num,\"It is not a vowel\")\n",
        "print(operations(1))"
      ],
      "metadata": {
        "colab": {
          "base_uri": "https://localhost:8080/"
        },
        "id": "LJQQ6TTffXFe",
        "outputId": "6ee4a5c8-5627-4b26-9de6-c3b8b0722b40"
      },
      "execution_count": null,
      "outputs": [
        {
          "output_type": "stream",
          "name": "stdout",
          "text": [
            "Vowel\n"
          ]
        }
      ]
    },
    {
      "cell_type": "code",
      "source": [
        "def operations(num):\n",
        "  switch={\n",
        "      1 : \"One\",\n",
        "      2 : \"Two\",\n",
        "      3 : \"Three\",\n",
        "      4 : \"Four\",\n",
        "  }\n",
        "  return switch.get(num,\"It is not a number\")\n",
        "print(operations(2))"
      ],
      "metadata": {
        "id": "ZUOg9afXjViK",
        "colab": {
          "base_uri": "https://localhost:8080/"
        },
        "outputId": "ce928f72-97fb-4df3-f3f3-8c552a526654"
      },
      "execution_count": null,
      "outputs": [
        {
          "output_type": "stream",
          "name": "stdout",
          "text": [
            "Two\n"
          ]
        }
      ]
    },
    {
      "cell_type": "code",
      "source": [
        "number = -2\n",
        "\n",
        "if number > 0:\n",
        "    print('Number is positive.')\n",
        "else:\n",
        "    print('Number is negative.')"
      ],
      "metadata": {
        "colab": {
          "base_uri": "https://localhost:8080/"
        },
        "id": "ERtfJSgeFrtJ",
        "outputId": "557f48b8-7223-4268-e5a8-5a2f076d4d92"
      },
      "execution_count": null,
      "outputs": [
        {
          "output_type": "stream",
          "name": "stdout",
          "text": [
            "Number is negative.\n"
          ]
        }
      ]
    },
    {
      "cell_type": "code",
      "source": [
        "number = 0\n",
        "\n",
        "if number > 0:\n",
        "    print(\"Positive number\")\n",
        "elif number == 0:\n",
        "    print('Zero')\n",
        "else:\n",
        "    print('Negative number')"
      ],
      "metadata": {
        "colab": {
          "base_uri": "https://localhost:8080/"
        },
        "id": "iceRQ-HTFyz-",
        "outputId": "d8f6d0d5-d49b-48f2-a4c2-fdb19cecfa6b"
      },
      "execution_count": null,
      "outputs": [
        {
          "output_type": "stream",
          "name": "stdout",
          "text": [
            "Zero\n"
          ]
        }
      ]
    },
    {
      "cell_type": "code",
      "source": [
        "a=10\n",
        "b=5\n",
        "def add (a: int,b: int):\n",
        "  c=a+b\n",
        "  print(c)\n",
        "add(a,b)"
      ],
      "metadata": {
        "id": "0jJd31WUGOFm",
        "colab": {
          "base_uri": "https://localhost:8080/"
        },
        "outputId": "3c2e597d-b3a3-416e-d609-627758746c62"
      },
      "execution_count": null,
      "outputs": [
        {
          "output_type": "stream",
          "name": "stdout",
          "text": [
            "15\n"
          ]
        }
      ]
    },
    {
      "cell_type": "code",
      "source": [
        "num=int(input(\"Enter a number:\"))\n",
        "fact=1\n",
        "if(num==0):\n",
        "  print(\"Error\")\n",
        "elif(num==1):\n",
        "  print(\"Factorial is 1\")\n",
        "else:\n",
        "  for i in range(1,num+1):\n",
        "    fact=fact*i\n",
        "print(fact)"
      ],
      "metadata": {
        "colab": {
          "base_uri": "https://localhost:8080/"
        },
        "id": "eI1byJgcKpaK",
        "outputId": "a573a729-a6da-40b1-a2d6-cc889760d6b5"
      },
      "execution_count": null,
      "outputs": [
        {
          "output_type": "stream",
          "name": "stdout",
          "text": [
            "Enter a number:5\n",
            "120\n"
          ]
        }
      ]
    },
    {
      "cell_type": "code",
      "source": [
        "count=0\n",
        "terms=5\n",
        "a=0\n",
        "b=a+1\n",
        "print(a)\n",
        "print(b)\n",
        "for i in range(count,terms+1):\n",
        "  c=a+b\n",
        "  print(c)\n",
        "  a=b\n",
        "  b=c\n",
        "  count+=1"
      ],
      "metadata": {
        "colab": {
          "base_uri": "https://localhost:8080/"
        },
        "id": "9m7HBMKDOdbi",
        "outputId": "d176d9fa-fb5c-4e9e-dd00-018d3477fc26"
      },
      "execution_count": null,
      "outputs": [
        {
          "output_type": "stream",
          "name": "stdout",
          "text": [
            "0\n",
            "1\n",
            "1\n",
            "2\n",
            "3\n",
            "5\n",
            "8\n",
            "13\n"
          ]
        }
      ]
    },
    {
      "cell_type": "code",
      "source": [
        "num=int(input(\"Enter a number:\"))\n",
        "def fact(num:int):\n",
        "  fact=1\n",
        "  if(num==0):\n",
        "    print(\"Error\")\n",
        "  elif(num==1):\n",
        "    print(\"Factorial is 1\")\n",
        "  else:\n",
        "    for i in range(1,num+1):\n",
        "      fact=fact*i\n",
        "  print(fact)\n",
        "fact(num)"
      ],
      "metadata": {
        "colab": {
          "base_uri": "https://localhost:8080/"
        },
        "id": "XUiSG8hqTJ-J",
        "outputId": "843e843f-d6c4-45f7-bd4c-0a15ab7e1bb8"
      },
      "execution_count": null,
      "outputs": [
        {
          "output_type": "stream",
          "name": "stdout",
          "text": [
            "Enter a number:5\n",
            "120\n"
          ]
        }
      ]
    },
    {
      "cell_type": "code",
      "source": [
        "\n",
        "def fib(a:int,b:int):\n",
        "  count=0\n",
        "  terms=5\n",
        "  a=0\n",
        "  b=a+1\n",
        "  print(a)\n",
        "  print(b)\n",
        "  for i in range(count,terms+1):\n",
        "    c=a+b\n",
        "    print(c)\n",
        "    a=b\n",
        "    b=c\n",
        "    count+=1\n",
        "fib(a,b)"
      ],
      "metadata": {
        "colab": {
          "base_uri": "https://localhost:8080/"
        },
        "id": "CuJkASbeVqqf",
        "outputId": "334eef93-8cd8-4b3b-98b7-3d7f6c286785"
      },
      "execution_count": null,
      "outputs": [
        {
          "output_type": "stream",
          "name": "stdout",
          "text": [
            "0\n",
            "1\n",
            "1\n",
            "2\n",
            "3\n",
            "5\n",
            "8\n",
            "13\n"
          ]
        }
      ]
    },
    {
      "cell_type": "code",
      "source": [
        "def leap(num):\n",
        "  num=int(input(\"Enter year:\"))\n",
        "  if(num%4==0):\n",
        "    print(\"leap year\")\n",
        "  else:\n",
        "    print(\"not a leap year\")\n",
        "leap(num)"
      ],
      "metadata": {
        "colab": {
          "base_uri": "https://localhost:8080/"
        },
        "id": "qQO5TSeyV8Np",
        "outputId": "331cc33b-a0c0-445b-cb32-8669e0ee7aaf"
      },
      "execution_count": null,
      "outputs": [
        {
          "output_type": "stream",
          "name": "stdout",
          "text": [
            "Enter year:2020\n",
            "leap year\n"
          ]
        }
      ]
    },
    {
      "cell_type": "code",
      "source": [
        "print(\"hello world\")"
      ],
      "metadata": {
        "id": "SVYE8bg6Xmzg",
        "colab": {
          "base_uri": "https://localhost:8080/"
        },
        "outputId": "1b038d1e-ef60-4347-f80d-5dc62d15981d"
      },
      "execution_count": null,
      "outputs": [
        {
          "output_type": "stream",
          "name": "stdout",
          "text": [
            "hello world\n"
          ]
        }
      ]
    },
    {
      "cell_type": "code",
      "source": [
        "n1=int(input('enter 1st number:'))\n",
        "n2=int(input('enter 2nd number:'))\n",
        "add=n1+n2\n",
        "print('your total sum is:')\n",
        "print(add)"
      ],
      "metadata": {
        "colab": {
          "base_uri": "https://localhost:8080/"
        },
        "id": "z5kAdueA6uM_",
        "outputId": "1f9cc623-c8d7-4cf2-da23-00cd343c254f"
      },
      "execution_count": null,
      "outputs": [
        {
          "output_type": "stream",
          "name": "stdout",
          "text": [
            "enter 1st number:7\n",
            "enter 2nd number:8\n",
            "your total sum is:\n",
            "15\n"
          ]
        }
      ]
    },
    {
      "cell_type": "code",
      "source": [
        "n=int(input('enter a number:'))\n",
        "if(n%2==0):\n",
        "  print('number is even')\n",
        "else:\n",
        "  print('number is odd')"
      ],
      "metadata": {
        "colab": {
          "base_uri": "https://localhost:8080/"
        },
        "id": "8WMg9cwN7Iff",
        "outputId": "b81a455f-405f-4c88-cb62-b22967364b13"
      },
      "execution_count": null,
      "outputs": [
        {
          "output_type": "stream",
          "name": "stdout",
          "text": [
            "enter a number:2\n",
            "number is even\n"
          ]
        }
      ]
    },
    {
      "cell_type": "code",
      "source": [
        "p=float(input('enter initial principal balance:'))\n",
        "r=float(input('enter interest rate:'))\n",
        "n=float(input('enter number of times interest applied per time period:'))\n",
        "t=float(input('enter number of time periods elapsed:'))\n",
        "a=p*(pow((1+r/n), n*t))\n",
        "print('compound interest is:')\n",
        "print(a)"
      ],
      "metadata": {
        "colab": {
          "base_uri": "https://localhost:8080/"
        },
        "id": "J3zsBIKz77Qj",
        "outputId": "06414cdc-be02-4f7b-dfb5-1167cc28b5dc"
      },
      "execution_count": null,
      "outputs": [
        {
          "output_type": "stream",
          "name": "stdout",
          "text": [
            "enter initial principal balance:2\n",
            "enter interest rate:2\n",
            "enter number of times interest applied per time period:2\n",
            "enter number of time periods elapsed:2\n",
            "compound interest is:\n",
            "32.0\n"
          ]
        }
      ]
    },
    {
      "cell_type": "code",
      "source": [
        "x=\"12345543\"\n",
        "print(x.capitalize())\n",
        "print(x.title())\n",
        "print(x.upper())\n",
        "print(x.lower())\n",
        "print(x.swapcase())\n",
        "y=int(x.count('a'))\n",
        "print(y)\n",
        "print(x.isdigit())"
      ],
      "metadata": {
        "id": "dWdh02Y49Tce",
        "colab": {
          "base_uri": "https://localhost:8080/"
        },
        "outputId": "e09643ad-77f6-4d80-b293-d5a3570f875b"
      },
      "execution_count": null,
      "outputs": [
        {
          "output_type": "stream",
          "name": "stdout",
          "text": [
            "12345543\n",
            "12345543\n",
            "12345543\n",
            "12345543\n",
            "12345543\n",
            "0\n",
            "True\n"
          ]
        }
      ]
    },
    {
      "cell_type": "code",
      "source": [
        "def user():\n",
        "\n",
        "  arr1=[]\n",
        "  n=int(input('enter the number of elements in an array:'))\n",
        "  for i in range(0,n):\n",
        "    arr=int(input())\n",
        "    arr1.append(arr)\n",
        "  print(arr1)\n",
        "def add():\n",
        "  l=len(arr1)+1\n",
        "  sum=0\n",
        "  for i in range(l):\n",
        "    sum=sum+i\n",
        "  print(sum)\n",
        "user()\n",
        "add()"
      ],
      "metadata": {
        "id": "jH0ChFnwzQP2",
        "colab": {
          "base_uri": "https://localhost:8080/"
        },
        "outputId": "4e179dc3-3805-48ad-acc4-59a3e34bfeed"
      },
      "execution_count": null,
      "outputs": [
        {
          "output_type": "stream",
          "name": "stdout",
          "text": [
            "enter the number of elements in an array:4\n",
            "1\n",
            "2\n",
            "3\n",
            "4\n",
            "[1, 2, 3, 4]\n",
            "10\n"
          ]
        }
      ]
    },
    {
      "cell_type": "code",
      "source": [
        "x=[1,2,3,4]\n",
        "l=len(x)+1\n",
        "sum=0\n",
        "for i in range(l):\n",
        "  sum=sum+i\n",
        "  sum1=sum+sum\n",
        "print(sum1)"
      ],
      "metadata": {
        "colab": {
          "base_uri": "https://localhost:8080/"
        },
        "id": "OuW-aBrxTCEU",
        "outputId": "2f6d3fb9-0396-478c-e908-47e16631590e"
      },
      "execution_count": null,
      "outputs": [
        {
          "output_type": "stream",
          "name": "stdout",
          "text": [
            "20\n"
          ]
        }
      ]
    },
    {
      "cell_type": "code",
      "source": [
        "array2=[]\n",
        "array=int(input('enter elements:'))\n",
        "for i in range(0,n):\n",
        "  array1=int(input())\n",
        "  array2.append(array1)\n",
        "print(array2)"
      ],
      "metadata": {
        "id": "7xSg_x_wWYuy",
        "colab": {
          "base_uri": "https://localhost:8080/"
        },
        "outputId": "bb17afa5-01b1-4dfa-bc68-5fb65bbcb8b2"
      },
      "execution_count": null,
      "outputs": [
        {
          "output_type": "stream",
          "name": "stdout",
          "text": [
            "enter number of elements:2\n",
            "1\n",
            "2\n",
            "2\n",
            "3\n",
            "[1, 2, 2, 3]\n"
          ]
        }
      ]
    },
    {
      "cell_type": "code",
      "source": [
        "num = int(input('enter a number:'))\n",
        "for i in range(0, 11):\n",
        "  print(num,'x',i,'=',num * i)"
      ],
      "metadata": {
        "colab": {
          "base_uri": "https://localhost:8080/"
        },
        "id": "3IaZ4JWhzR4B",
        "outputId": "69664b06-0938-46fc-cd22-6644ed94dfc8"
      },
      "execution_count": null,
      "outputs": [
        {
          "output_type": "stream",
          "name": "stdout",
          "text": [
            "enter a number:2\n",
            "2 x 0 = 0\n",
            "2 x 1 = 2\n",
            "2 x 2 = 4\n",
            "2 x 3 = 6\n",
            "2 x 4 = 8\n",
            "2 x 5 = 10\n",
            "2 x 6 = 12\n",
            "2 x 7 = 14\n",
            "2 x 8 = 16\n",
            "2 x 9 = 18\n",
            "2 x 10 = 20\n"
          ]
        }
      ]
    },
    {
      "cell_type": "code",
      "source": [
        "value=(input('enter an alphabet:'))\n",
        "ord('value')"
      ],
      "metadata": {
        "colab": {
          "base_uri": "https://localhost:8080/",
          "height": 211
        },
        "id": "oeZlKDcu0EEs",
        "outputId": "a381776e-5784-47f8-b5f6-a39b4e57165c"
      },
      "execution_count": null,
      "outputs": [
        {
          "name": "stdout",
          "output_type": "stream",
          "text": [
            "enter an alphabet:A\n"
          ]
        },
        {
          "output_type": "error",
          "ename": "TypeError",
          "evalue": "ignored",
          "traceback": [
            "\u001b[0;31m---------------------------------------------------------------------------\u001b[0m",
            "\u001b[0;31mTypeError\u001b[0m                                 Traceback (most recent call last)",
            "\u001b[0;32m<ipython-input-30-5920d4a4ceab>\u001b[0m in \u001b[0;36m<cell line: 2>\u001b[0;34m()\u001b[0m\n\u001b[1;32m      1\u001b[0m \u001b[0mvalue\u001b[0m\u001b[0;34m=\u001b[0m\u001b[0;34m(\u001b[0m\u001b[0minput\u001b[0m\u001b[0;34m(\u001b[0m\u001b[0;34m'enter an alphabet:'\u001b[0m\u001b[0;34m)\u001b[0m\u001b[0;34m)\u001b[0m\u001b[0;34m\u001b[0m\u001b[0;34m\u001b[0m\u001b[0m\n\u001b[0;32m----> 2\u001b[0;31m \u001b[0mord\u001b[0m\u001b[0;34m(\u001b[0m\u001b[0;34m'value'\u001b[0m\u001b[0;34m)\u001b[0m\u001b[0;34m\u001b[0m\u001b[0;34m\u001b[0m\u001b[0m\n\u001b[0m",
            "\u001b[0;31mTypeError\u001b[0m: ord() expected a character, but string of length 5 found"
          ]
        }
      ]
    }
  ]
}