{
  "nbformat": 4,
  "nbformat_minor": 0,
  "metadata": {
    "colab": {
      "provenance": [],
      "authorship_tag": "ABX9TyMxvsgc2SF7hQ58FNARDC+8",
      "include_colab_link": true
    },
    "kernelspec": {
      "name": "python3",
      "display_name": "Python 3"
    },
    "language_info": {
      "name": "python"
    }
  },
  "cells": [
    {
      "cell_type": "markdown",
      "metadata": {
        "id": "view-in-github",
        "colab_type": "text"
      },
      "source": [
        "<a href=\"https://colab.research.google.com/github/PrathamK03/python-program/blob/main/Hangman_Game_Mini_Project.ipynb\" target=\"_parent\"><img src=\"https://colab.research.google.com/assets/colab-badge.svg\" alt=\"Open In Colab\"/></a>"
      ]
    },
    {
      "cell_type": "code",
      "execution_count": null,
      "metadata": {
        "id": "VfAeanSa95B-",
        "colab": {
          "base_uri": "https://localhost:8080/"
        },
        "outputId": "55ab6ec7-d173-4252-ec14-cba0a3cc4ed9"
      },
      "outputs": [
        {
          "output_type": "stream",
          "name": "stdout",
          "text": [
            "Guess the word! HINT: word is a name of a fruit\n",
            "_ _ _ _ _ \n",
            "\n",
            "Enter a letter to guess: m\n",
            "_ _ _ _ _ \n",
            "Enter a letter to guess: a\n",
            "a _ _ _ _ \n",
            "Enter a letter to guess: p\n",
            "a p p _ _ \n",
            "Enter a letter to guess: l\n",
            "a p p l _ \n",
            "Enter a letter to guess: e\n",
            "The word is:  apple\n",
            "Congratulations, You won!\n"
          ]
        }
      ],
      "source": [
        "import random\n",
        "from collections import Counter\n",
        "someWords = '''apple banana mango strawberry orange grape pineapple apricot lemon coconut watermelon cherry papaya berry peach lychee muskmelon'''\n",
        "someWords = someWords.split(' ')\n",
        "word = random.choice(someWords)\n",
        "if __name__ == '__main__':\n",
        "    print('Guess the word! HINT: word is a name of a fruit')\n",
        "    for i in word:\n",
        "        print('_', end=' ')\n",
        "    print()\n",
        "    playing = True\n",
        "    letterGuessed = ''\n",
        "    chances = len(word) + 2\n",
        "    correct = 0\n",
        "    flag = 0\n",
        "    try:\n",
        "        while (chances != 0) and flag == 0:\n",
        "            print()\n",
        "            chances -= 1\n",
        "            try:\n",
        "                guess = str(input('Enter a letter to guess: '))\n",
        "            except:\n",
        "                print('Enter only a letter!')\n",
        "                continue\n",
        "            if not guess.isalpha():\n",
        "                print('Enter only a LETTER')\n",
        "                continue\n",
        "            elif len(guess) > 1:\n",
        "                print('Enter only a SINGLE letter')\n",
        "                continue\n",
        "            elif guess in letterGuessed:\n",
        "                print('You have already guessed that letter')\n",
        "                continue\n",
        "            if guess in word:\n",
        "                k = word.count(guess)\n",
        "                for _ in range(k):\n",
        "                    letterGuessed += guess\n",
        "            for char in word:\n",
        "                if char in letterGuessed and (Counter(letterGuessed) != Counter(word)):\n",
        "                    print(char, end=' ')\n",
        "                    correct += 1\n",
        "                elif (Counter(letterGuessed) == Counter(word)):\n",
        "                    print(\"The word is: \", end=' ')\n",
        "                    print(word)\n",
        "                    flag = 1\n",
        "                    print('Congratulations, You won!')\n",
        "                    break\n",
        "                    break\n",
        "                else:\n",
        "                    print('_', end=' ')\n",
        "        if chances <= 0 and (Counter(letterGuessed) != Counter(word)):\n",
        "            print()\n",
        "            print('You lost! Try again..')\n",
        "            print('The word was {}'.format(word))\n",
        "    except KeyboardInterrupt:\n",
        "        print()\n",
        "        print('Bye! Try again.')\n",
        "        exit()"
      ]
    },
    {
      "cell_type": "code",
      "source": [],
      "metadata": {
        "id": "LtMrL22sgJFm"
      },
      "execution_count": null,
      "outputs": []
    }
  ]
}