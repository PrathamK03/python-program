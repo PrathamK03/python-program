{
  "nbformat": 4,
  "nbformat_minor": 0,
  "metadata": {
    "colab": {
      "provenance": [],
      "authorship_tag": "ABX9TyPXxxMcll2Sgn652MJDlFLB",
      "include_colab_link": true
    },
    "kernelspec": {
      "name": "python3",
      "display_name": "Python 3"
    },
    "language_info": {
      "name": "python"
    }
  },
  "cells": [
    {
      "cell_type": "markdown",
      "metadata": {
        "id": "view-in-github",
        "colab_type": "text"
      },
      "source": [
        "<a href=\"https://colab.research.google.com/github/PrathamK03/python-program/blob/main/Untitled14.ipynb\" target=\"_parent\"><img src=\"https://colab.research.google.com/assets/colab-badge.svg\" alt=\"Open In Colab\"/></a>"
      ]
    },
    {
      "cell_type": "code",
      "execution_count": null,
      "metadata": {
        "colab": {
          "base_uri": "https://localhost:8080/"
        },
        "id": "aoe9HfopHo5N",
        "outputId": "b4516f8b-6854-4d84-ec48-d9f8c6931c05"
      },
      "outputs": [
        {
          "output_type": "error",
          "ename": "FileNotFoundError",
          "evalue": "[Errno 2] No such file or directory: 'datasets/vivek'",
          "traceback": [
            "\u001b[0;31m---------------------------------------------------------------------------\u001b[0m",
            "\u001b[0;31mFileNotFoundError\u001b[0m                         Traceback (most recent call last)",
            "\u001b[0;32m<ipython-input-1-354c8578d9fa>\u001b[0m in \u001b[0;36m<cell line: 18>\u001b[0;34m()\u001b[0m\n\u001b[1;32m     17\u001b[0m \u001b[0mpath\u001b[0m \u001b[0;34m=\u001b[0m \u001b[0mos\u001b[0m\u001b[0;34m.\u001b[0m\u001b[0mpath\u001b[0m\u001b[0;34m.\u001b[0m\u001b[0mjoin\u001b[0m\u001b[0;34m(\u001b[0m\u001b[0mdatasets\u001b[0m\u001b[0;34m,\u001b[0m \u001b[0msub_data\u001b[0m\u001b[0;34m)\u001b[0m\u001b[0;34m\u001b[0m\u001b[0;34m\u001b[0m\u001b[0m\n\u001b[1;32m     18\u001b[0m \u001b[0;32mif\u001b[0m \u001b[0;32mnot\u001b[0m \u001b[0mos\u001b[0m\u001b[0;34m.\u001b[0m\u001b[0mpath\u001b[0m\u001b[0;34m.\u001b[0m\u001b[0misdir\u001b[0m\u001b[0;34m(\u001b[0m\u001b[0mpath\u001b[0m\u001b[0;34m)\u001b[0m\u001b[0;34m:\u001b[0m\u001b[0;34m\u001b[0m\u001b[0;34m\u001b[0m\u001b[0m\n\u001b[0;32m---> 19\u001b[0;31m         \u001b[0mos\u001b[0m\u001b[0;34m.\u001b[0m\u001b[0mmkdir\u001b[0m\u001b[0;34m(\u001b[0m\u001b[0mpath\u001b[0m\u001b[0;34m)\u001b[0m\u001b[0;34m\u001b[0m\u001b[0;34m\u001b[0m\u001b[0m\n\u001b[0m\u001b[1;32m     20\u001b[0m \u001b[0;34m\u001b[0m\u001b[0m\n\u001b[1;32m     21\u001b[0m \u001b[0;31m# defining the size of images\u001b[0m\u001b[0;34m\u001b[0m\u001b[0;34m\u001b[0m\u001b[0m\n",
            "\u001b[0;31mFileNotFoundError\u001b[0m: [Errno 2] No such file or directory: 'datasets/vivek'"
          ]
        }
      ],
      "source": [
        "# Creating database\n",
        "# It captures images and stores them in datasets\n",
        "# folder under the folder name of sub_data\n",
        "import cv2, sys, numpy, os\n",
        "haar_file = 'haarcascade_frontalface_default.xml'\n",
        "\n",
        "# All the faces data will be\n",
        "# present this folder\n",
        "datasets = 'datasets'\n",
        "\n",
        "\n",
        "# These are sub data sets of folder,\n",
        "# for my faces I've used my name you can\n",
        "# change the label here\n",
        "sub_data = 'vivek'\n",
        "\n",
        "path = os.path.join(datasets, sub_data)\n",
        "if not os.path.isdir(path):\n",
        "\tos.mkdir(path)\n",
        "\n",
        "# defining the size of images\n",
        "(width, height) = (130, 100)\n",
        "\n",
        "#'0' is used for my webcam,\n",
        "# if you've any other camera\n",
        "# attached use '1' like this\n",
        "face_cascade = cv2.CascadeClassifier(haar_file)\n",
        "webcam = cv2.VideoCapture(0)\n",
        "\n",
        "# The program loops until it has 30 images of the face.\n",
        "count = 1\n",
        "while count < 30:\n",
        "\t(_, im) = webcam.read()\n",
        "\tgray = cv2.cvtColor(im, cv2.COLOR_BGR2GRAY)\n",
        "\tfaces = face_cascade.detectMultiScale(gray, 1.3, 4)\n",
        "\tfor (x, y, w, h) in faces:\n",
        "\t\tcv2.rectangle(im, (x, y), (x + w, y + h), (255, 0, 0), 2)\n",
        "\t\tface = gray[y:y + h, x:x + w]\n",
        "\t\tface_resize = cv2.resize(face, (width, height))\n",
        "\t\tcv2.imwrite('% s/% s.png' % (path, count), face_resize)\n",
        "\tcount += 1\n",
        "\n",
        "\tcv2.imshow('OpenCV', im)\n",
        "\tkey = cv2.waitKey(10)\n",
        "\tif key == 27:\n",
        "\t\tbreak\n"
      ]
    },
    {
      "cell_type": "code",
      "source": [],
      "metadata": {
        "id": "phdymLeJL2G7"
      },
      "execution_count": null,
      "outputs": []
    }
  ]
}