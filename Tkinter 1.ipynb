{
 "cells": [
  {
   "cell_type": "code",
   "execution_count": 1,
   "id": "b2665b02-067b-46a4-813f-d890d515500c",
   "metadata": {},
   "outputs": [],
   "source": [
    "from tkinter import *\n",
    "root = Tk()\n",
    "\n",
    "root.title(\"Welcome to GeekForGeeks\")\n",
    "root.geometry('350x200')\n",
    "\n",
    "root.mainloop()"
   ]
  },
  {
   "cell_type": "code",
   "execution_count": 3,
   "id": "8f0bcb54-bdf7-4e10-82a4-5e2505153986",
   "metadata": {},
   "outputs": [],
   "source": [
    "from tkinter import *\n",
    "root = Tk()\n",
    "\n",
    "root.title(\"Welcome to GeekForGeeks\")\n",
    "root.geometry('350x200')\n",
    "\n",
    "lbl = Label(root, text = \"Are you a Geek?\")\n",
    "lbl.grid()\n",
    "\n",
    "root.mainloop()"
   ]
  },
  {
   "cell_type": "code",
   "execution_count": 5,
   "id": "d9525310-a90d-4bda-aee3-8ba806c6fee5",
   "metadata": {},
   "outputs": [],
   "source": [
    "from tkinter import *\n",
    "root = Tk()\n",
    "\n",
    "root.title(\"Welcome to GeekForGeeks\")\n",
    "root.geometry('350x200')\n",
    "\n",
    "lbl = Label(root, text = \"Are you a Geek?\")\n",
    "lbl.grid()\n",
    "\n",
    "def clicked():\n",
    "\tlbl.configure(text = \"I just got clicked\")\n",
    "\n",
    "btn = Button(root, text = \"Click me\",fg = \"red\", command=clicked)\n",
    "btn.grid(column=1, row=0)\n",
    "\n",
    "root.mainloop()"
   ]
  },
  {
   "cell_type": "code",
   "execution_count": 5,
   "id": "63596376-0fdd-403a-85cb-bac408b17865",
   "metadata": {},
   "outputs": [],
   "source": [
    "from tkinter import *\n",
    "root = Tk()\n",
    "\n",
    "root.title(\"Welcome to GeekForGeeks\")\n",
    "root.geometry('350x200')\n",
    "\n",
    "lbl = Label(root, text = \"Are you a Geek?\")\n",
    "lbl.grid()\n",
    "\n",
    "txt = Entry(root, width=10)\n",
    "txt.grid(column =1, row =0)\n",
    "\n",
    "def clicked():\n",
    "\tres = \"You wrote \" + txt.get()\n",
    "\tlbl.configure(text = res)\n",
    "\n",
    "btn = Button(root, text = \"Click me\" ,\n",
    "\t\t\tfg = \"red\", command=clicked)\n",
    "btn.grid(column=2, row=0)\n",
    "\n",
    "root.mainloop()"
   ]
  },
  {
   "cell_type": "code",
   "execution_count": null,
   "id": "a93eca25-c44a-45a3-aa2f-95f253c98318",
   "metadata": {},
   "outputs": [],
   "source": []
  }
 ],
 "metadata": {
  "kernelspec": {
   "display_name": "Python 3 (ipykernel)",
   "language": "python",
   "name": "python3"
  },
  "language_info": {
   "codemirror_mode": {
    "name": "ipython",
    "version": 3
   },
   "file_extension": ".py",
   "mimetype": "text/x-python",
   "name": "python",
   "nbconvert_exporter": "python",
   "pygments_lexer": "ipython3",
   "version": "3.12.4"
  }
 },
 "nbformat": 4,
 "nbformat_minor": 5
}
